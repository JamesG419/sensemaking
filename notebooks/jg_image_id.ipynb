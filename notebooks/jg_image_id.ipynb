{
 "cells": [
  {
   "cell_type": "code",
   "execution_count": 1,
   "id": "d489913d",
   "metadata": {},
   "outputs": [],
   "source": [
    "from pathlib import Path\n",
    "import pandas as pd"
   ]
  },
  {
   "cell_type": "code",
   "execution_count": null,
   "id": "5a894f0b",
   "metadata": {},
   "outputs": [],
   "source": [
    "activity_log_path = Path().resolve().parent / 'data/processed/activity_log_images.csv'\n",
    "\n",
    "df = pd.read_csv(activity_log_path)\n",
    "\n",
    "ids = df['image_id'].unique()\n",
    "\n",
    "ids.to_csv(Path().resolve().parent / 'data/processed/activity_log_images_unique.csv', index=False)"
   ]
  }
 ],
 "metadata": {
  "kernelspec": {
   "display_name": "sensemaking-KoVn_lSv-py3.11",
   "language": "python",
   "name": "python3"
  },
  "language_info": {
   "codemirror_mode": {
    "name": "ipython",
    "version": 3
   },
   "file_extension": ".py",
   "mimetype": "text/x-python",
   "name": "python",
   "nbconvert_exporter": "python",
   "pygments_lexer": "ipython3",
   "version": "3.11.12"
  }
 },
 "nbformat": 4,
 "nbformat_minor": 5
}
