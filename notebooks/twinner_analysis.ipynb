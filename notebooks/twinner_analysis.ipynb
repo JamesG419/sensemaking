{
 "cells": [
  {
   "cell_type": "code",
   "execution_count": null,
   "metadata": {},
   "outputs": [],
   "source": [
    "import pandas as pd\n",
    "from datetime import datetime \n",
    "import numpy as np\n",
    "import seaborn as sb\n",
    "import matplotlib.pyplot as plt\n",
    "import matplotlib.dates as mdates\n",
    "from dateutil import tz\n",
    "from pathlib import Path"
   ]
  },
  {
   "cell_type": "code",
   "execution_count": null,
   "metadata": {},
   "outputs": [],
   "source": [
    "activity_log_path = Path().resolve().parent / 'data/raw/activity-log-TOTO.csv'\n",
    "\n",
    "df = pd.read_csv(\n",
    "    activity_log_path,\n",
    "    encoding='latin_1', dtype=str,\n",
    "    keep_default_na=False\n",
    ")\n",
    "df = df.rename(columns={'ï»¿Activity Type':\"Activity Type\"})\n",
    "df = df.rename(columns={'New Text': 'New_Text'})\n"
   ]
  },
  {
   "cell_type": "code",
   "execution_count": null,
   "metadata": {},
   "outputs": [],
   "source": [
    "df.columns"
   ]
  },
  {
   "cell_type": "code",
   "execution_count": null,
   "metadata": {},
   "outputs": [],
   "source": [
    "#Data Cleaning of bad rows due to incorrect image input \n",
    "#df.drop([1756, 1757, 1758,1759], axis=0, inplace=True)\n",
    "#print(df['Time'].to_string(index=False))"
   ]
  },
  {
   "cell_type": "code",
   "execution_count": null,
   "metadata": {},
   "outputs": [],
   "source": [
    "#Add in Scenario Run based off Date\n",
    "conditions = [\n",
    "    (df['Date'] == ('2/12/2024')),\n",
    "    (df['Date'] == ('2/13/2024')),\n",
    "    (df['Date'] == ('2/14/2024')),\n",
    "    (df['Date'] == ('2/15/2024'))\n",
    "    ]\n",
    "     \n",
    "day = ['Day 1', 'Day 2', 'Day 3', 'Day 4']\n",
    "\n",
    "    \n",
    "df.insert(1, \"Day\", np.select(conditions, day), True)\n",
    "df.head()"
   ]
  },
  {
   "cell_type": "code",
   "execution_count": null,
   "metadata": {},
   "outputs": [],
   "source": [
    "#change time to eastern from zulu\n",
    "#df['Time'] = df['Time'].dt.tz_convert('US/Eastern')\n",
    "\n",
    "#df['Time'] = df['Time'].dt.strftime(\"%H:%M:%S\")"
   ]
  },
  {
   "cell_type": "code",
   "execution_count": null,
   "metadata": {},
   "outputs": [],
   "source": [
    "#Categorize the action in each line and count number of type of linkages in a line\n",
    "\n",
    "def find_chars(test_string):\n",
    "    string_output = {'empty': False} #something not there  \n",
    "    if not (test_string): #nothing there \n",
    "        return {'empty': True}\n",
    "    string_output['@'] = test_string.count('@')\n",
    "    string_output['>'] = test_string.count('>')\n",
    "    string_output['+'] = test_string.count('+')\n",
    "    string_output['&'] = test_string.count('&')\n",
    "    string_output['~'] = test_string.count('~')\n",
    "    string_output['NEW'] = test_string.count('NEW') or test_string.count('new')\n",
    "    return string_output\n",
    "\n",
    "#print (find_chars('new +SituationalContext'))"
   ]
  },
  {
   "cell_type": "code",
   "execution_count": null,
   "metadata": {},
   "outputs": [],
   "source": [
    "#describe what the count of linkages means  \n",
    "def categorize_cell(data):\n",
    "    output = ''\n",
    "    if data['empty']:\n",
    "        return 'Empty'\n",
    "    if all(not x for x in data.values()):\n",
    "        return 'No Links'    \n",
    "    if data['NEW'] > 0:\n",
    "        output = f'NEW{output}'\n",
    "    if data['@'] > 0 and data['@'] <= 1 :\n",
    "        output = f'{output} Account'\n",
    "    if data['@'] > 1:\n",
    "        output = f'{output} Account Account'\n",
    "    if data['>'] > 0:\n",
    "        output = f'{output} BEND'\n",
    "    if data['+'] > 0 and data['+'] <= 1:\n",
    "        output = f'{output} Tag'\n",
    "    if data['+'] > 1:\n",
    "        output = f'{output} Tag Tag'\n",
    "    if data['&'] > 0 and data['&'] <= 1:\n",
    "        output = f'{output} Group'\n",
    "    if data['&'] > 1:\n",
    "        output = f'{output} Group Group'\n",
    "    if data['~'] > 0:\n",
    "        output = f'{output} Class' \n",
    "        \n",
    "    return output \n"
   ]
  },
  {
   "cell_type": "code",
   "execution_count": null,
   "metadata": {},
   "outputs": [],
   "source": [
    "#mapping of action in a line \n",
    "def cell_description(data):\n",
    "    cell = [\n",
    "        (data == 'Empty'),\n",
    "        (data =='No Links'),\n",
    "        (data =='NEW'),\n",
    "        (data =='NEW Account'),\n",
    "        (data =='NEW Account Account'),\n",
    "        (data =='NEW Account Group'),\n",
    "        (data =='NEW Account Account Group'),\n",
    "        (data =='NEW Account Tag'),\n",
    "        (data =='NEW Account Account Tag'),\n",
    "        (data =='NEW Account BEND'),\n",
    "        (data =='NEW Account Account BEND'),\n",
    "        (data =='NEW Account Class'),\n",
    "        (data =='NEW Account Account Class'),\n",
    "        (data =='NEW Group'),\n",
    "        (data =='NEW Group Group'),\n",
    "        (data =='NEW Tag'),\n",
    "        (data =='NEW Tag Tag'),\n",
    "        (data =='NEW Tag Group'),\n",
    "        (data =='NEW Tag Tag Group'),\n",
    "        (data ==' Account'),\n",
    "        (data ==' Account Account'),\n",
    "        (data ==' Account BEND'),\n",
    "        (data ==' Account Account BEND'),\n",
    "        (data ==' Account Tag'),\n",
    "        (data ==' Account Account Tag'),\n",
    "        (data ==' Account Tag Tag'), \n",
    "        (data ==' Account Account Tag Tag'), \n",
    "        (data ==' Account BEND Tag'),\n",
    "        (data ==' Account Account BEND Tag'),\n",
    "        (data ==' Account BEND Tag Tag'), \n",
    "        (data ==' Account Account BEND Tag Tag'),\n",
    "        (data ==' Account Group'),\n",
    "        (data ==' Account Account Group'),\n",
    "        (data ==' Account Group Group'),\n",
    "        (data ==' Account Account Group Group'),\n",
    "        (data ==' Account BEND Group'),\n",
    "        (data ==' Account Account BEND Group'),\n",
    "        (data ==' Account BEND Group Group'),\n",
    "        (data ==' Account Account BEND Group Group'),\n",
    "        (data ==' Account Tag Group'),\n",
    "        (data ==' Account Account Tag Group'),\n",
    "        (data ==' Account Account Tag Tag Group'),\n",
    "        (data ==' Account Account Tag Tag Group Group'),\n",
    "        (data ==' Account BEND Tag Group'),\n",
    "        (data ==' Account Account BEND Tag Group'),\n",
    "        (data ==' Account BEND Tag Tag Group'), \n",
    "        (data ==' Account Account BEND Tag Tag Group'),\n",
    "        (data ==' Account BEND Tag Group Group'),\n",
    "        (data ==' Account Account BEND Tag Group Group'),\n",
    "        (data ==' Account BEND Tag Tag Group Group'), \n",
    "        (data ==' Account Account BEND Tag Tag Group Group'),\n",
    "        (data ==' Account Class'),\n",
    "        (data ==' Account Account Class'), \n",
    "        (data ==' Account BEND Class'),\n",
    "        (data ==' Account Account BEND Class'),\n",
    "        (data ==' Account Tag Class'),\n",
    "        (data ==' Account Account Tag Class'),\n",
    "        (data ==' Account Account Tag Tag Class'),\n",
    "        (data ==' Account Group Class'),\n",
    "        (data ==' Account Account Group Class'),\n",
    "        (data ==' Account Account Group Group Class'),\n",
    "        (data ==' Account BEND Tag Class'),\n",
    "        (data ==' Account BEND Tag Tag Class'),\n",
    "        (data ==' Account Account BEND Tag Class'),\n",
    "        (data ==' Account Account BEND Tag Tag Class'),\n",
    "        (data ==' Account BEND Tag Group Class'),\n",
    "        (data ==' Account Account BEND Tag Group Class'),\n",
    "        (data ==' Account BEND Tag Tag Group Class'), \n",
    "        (data ==' Account Account BEND Tag Tag Group Class'),\n",
    "        (data ==' Account BEND Tag Group Group Class'),\n",
    "        (data ==' Account Account BEND Tag Group Group Class'),\n",
    "        (data ==' Account BEND Tag Tag Group Group Class'), \n",
    "        (data ==' Account Account BEND Tag Tag Group Group Class'),\n",
    "        (data ==' BEND'),\n",
    "        (data ==' BEND Tag'),\n",
    "        (data ==' BEND Tag Tag'), \n",
    "        (data ==' BEND Group'),\n",
    "        (data ==' BEND Group Group'),\n",
    "        (data ==' BEND Tag Group'),\n",
    "        (data ==' BEND Tag Tag Group'),\n",
    "        (data ==' BEND Tag Tag Group Group'),\n",
    "        (data ==' BEND Tag Group Group'),\n",
    "        (data ==' BEND Class'),\n",
    "        (data ==' BEND Tag Class'),\n",
    "        (data ==' BEND Tag Tag Class'),\n",
    "        (data ==' BEND Tag Group Class'),\n",
    "        (data ==' BEND Tag Tag Group Class'), \n",
    "        (data ==' BEND Tag Group Group Class'),\n",
    "        (data ==' BEND Tag Tag Group Group Class'), \n",
    "        (data ==' Tag'),\n",
    "        (data ==' Tag Tag'),\n",
    "        (data ==' Tag Group'),\n",
    "        (data ==' Tag Tag Group'),\n",
    "        (data ==' Tag Tag Group Group'),\n",
    "        (data ==' Tag Class'),\n",
    "        (data ==' Tag Tag Class'), \n",
    "        (data ==' Tag Group Class'), \n",
    "        (data ==' Tag Tag Group Class'), \n",
    "        (data ==' Tag Group Group Class'),\n",
    "        (data ==' Tag Tag Group Group Class'),\n",
    "        (data ==' Group'),\n",
    "        (data ==' Group Group'),\n",
    "        (data ==' Group Class'),\n",
    "        (data ==' Group Group Class'),\n",
    "        (data ==' Class')\n",
    "    ]\n",
    "    \n",
    "    description = [\n",
    "        'Empty',\n",
    "        'No Linkages',\n",
    "        'No Linkages',\n",
    "        'New Account',\n",
    "        'New Account',\n",
    "        'Linkage - Account and Group',\n",
    "        'Linkage - Account and Group',\n",
    "        'Linkage - Account and Tag',\n",
    "        'Linkage - Account and Tag',\n",
    "        'Linkage - Account and BEND',\n",
    "        'Linkage - Account and BEND',\n",
    "        'Account Classification',\n",
    "        'Account Classification',  \n",
    "        'New Group',\n",
    "        'New Group',\n",
    "        'New Tag',\n",
    "        'New Tag',\n",
    "        'Linkage - Tag and Group',\n",
    "        'Linkage - Tag and Group',\n",
    "        'Account Statement', \n",
    "        'Linkage - Account and Account',\n",
    "        'Linkage - Account and BEND',\n",
    "        'Linkage - Account and BEND',\n",
    "        'Linkage - Account and Tag',\n",
    "        'Linkage - Account and Tag',\n",
    "        'Linkage - Account and Tag',\n",
    "        'Linkage - Account and Tag',\n",
    "        'Linkage - Account, BEND, Tag',\n",
    "        'Linkage - Account, BEND, Tag',\n",
    "        'Linkage - Account, BEND, Tag',\n",
    "        'Linkage - Account, BEND, Tag',\n",
    "        'Linkage - Account and Group',\n",
    "        'Linkage - Account and Group',\n",
    "        'Linkage - Account and Group',\n",
    "        'Linkage - Account and Group',\n",
    "        'Linkage - Account, BEND, Group',\n",
    "        'Linkage - Account, BEND, Group',\n",
    "        'Linkage - Account, BEND, Group',\n",
    "        'Linkage - Account, BEND, Group',\n",
    "        'Linkage - Account, Tag, Group',\n",
    "        'Linkage - Account, Tag, Group',\n",
    "        'Linkage - Account, Tag, Group',\n",
    "        'Linkage - Account, Tag, Group',\n",
    "        'Linkage - Account, BEND, Tag, Group',\n",
    "        'Linkage - Account, BEND, Tag, Group',\n",
    "        'Linkage - Account, BEND, Tag, Group',\n",
    "        'Linkage - Account, BEND, Tag, Group',\n",
    "        'Linkage - Account, BEND, Tag, Group',\n",
    "        'Linkage - Account, BEND, Tag, Group',\n",
    "        'Linkage - Account, BEND, Tag, Group',\n",
    "        'Linkage - Account, BEND, Tag, Group',\n",
    "        'Account Classification',\n",
    "        'Account Classification',\n",
    "        'Linkage - Account, BEND, Account Classification',\n",
    "        'Linkage - Account, BEND, Account Classification',\n",
    "        'Linkage - Account, Tag, Account Classifcation',\n",
    "        'Linkage - Account, Tag, Account Classifcation',\n",
    "        'Linkage - Account, Tag, Account Classifcation',\n",
    "        'Linkage - Account, Group, Account Classification',\n",
    "        'Linkage - Account, Group, Account Classification',\n",
    "        'Linkage - Account, Group, Account Classification',\n",
    "        'Linkage - Account, BEND, Tag, Account Classification',\n",
    "        'Linkage - Account, BEND, Tag, Account Classification',\n",
    "        'Linkage - Account, BEND, Tag, Account Classification',\n",
    "        'Linkage - Account, BEND, Tag, Account Classification',\n",
    "        'Linkage - Account, BEND, Tag, Group, Account Classification',\n",
    "        'Linkage - Account, BEND, Tag, Group, Account Classification',\n",
    "        'Linkage - Account, BEND, Tag, Group, Account Classification',\n",
    "        'Linkage - Account, BEND, Tag, Group, Account Classification',\n",
    "        'Linkage - Account, BEND, Tag, Group, Account Classification',\n",
    "        'Linkage - Account, BEND, Tag, Group, Account Classification',\n",
    "        'Linkage - Account, BEND, Tag, Group, Account Classification',\n",
    "        'Linkage - Account, BEND, Tag, Group, Account Classification',\n",
    "        'BEND Statement',\n",
    "        'Linkage - BEND and Tag',\n",
    "        'Linkage - BEND and Tag',\n",
    "        'Linkage - BEND and Group',\n",
    "        'Linkage - BEND and Group',\n",
    "        'Linkage - BEND, Tag, Group',\n",
    "        'Linkage - BEND, Tag, Group',\n",
    "        'Linkage - BEND, Tag, Group',\n",
    "        'Linkage - BEND, Tag, Group',\n",
    "        'Linkage - BEND and Account Classification',\n",
    "        'Linkage - BEND Tag and Account Classification',\n",
    "        'Linkage - BEND Tag and Account Classification',\n",
    "        'Linkage - BEND, Tag, Group, Account Classification',\n",
    "        'Linkage - BEND, Tag, Group, Account Classification',\n",
    "        'Linkage - BEND, Tag, Group, Account Classification',\n",
    "        'Linkage - BEND, Tag, Group, Account Classification',\n",
    "        'Tag Statement',\n",
    "        'Tag Statement',\n",
    "        'Linkage - Tag and Group',\n",
    "        'Linkage - Tag and Group',\n",
    "        'Linkage - Tag and Group',\n",
    "        'Linkage - Tag and Account Classification',\n",
    "        'Linkage - Tag and Account Classification',\n",
    "        'Linkage - Tag, Group, Account Classification',\n",
    "        'Linkage - Tag, Group, Account Classification',\n",
    "        'Linkage - Tag, Group, Account Classification',\n",
    "        'Linkage - Tag, Group, Account Classification',\n",
    "        'Group Statement',\n",
    "        'Group Statement',\n",
    "        'Linkage - Group and Account Classification',\n",
    "        'Linkage - Group and Account Classification',\n",
    "        'Account Classification Statement' \n",
    "    ]\n",
    "    \n",
    "    return np.select(cell, description)"
   ]
  },
  {
   "cell_type": "code",
   "execution_count": null,
   "metadata": {},
   "outputs": [],
   "source": [
    "#put into dataframe action the user took pulled out the new text \n",
    "df['Type of Action'] = df['New_Text'].apply(lambda x: cell_description(categorize_cell(find_chars(x))))"
   ]
  },
  {
   "cell_type": "code",
   "execution_count": null,
   "metadata": {},
   "outputs": [],
   "source": [
    "##Check for errors. Zero means it wasn't categorized\n",
    "df.loc[df['Type of Action']=='0']"
   ]
  },
  {
   "cell_type": "code",
   "execution_count": null,
   "metadata": {},
   "outputs": [],
   "source": [
    "##find and eliminate errors\n",
    "##put row number in [#] for each\n",
    "\n",
    "#print (df['New_Text'].values[1594])\n",
    "#print (find_chars(df['New_Text'].values[1594]))\n",
    "#print ((categorize_cell(find_chars(df['New_Text'].values[1594]))))\n",
    "#print(cell_description(categorize_cell(find_chars(df['New_Text'].values[1594]))))"
   ]
  },
  {
   "cell_type": "code",
   "execution_count": null,
   "metadata": {},
   "outputs": [],
   "source": [
    "#organize image events by new and edited events \n",
    "#new images \n",
    "df['Type of Action'] = np.where ((df['Activity Type'] =='set_image') & (df['Image Name'] == 'null'),'New Image', df['Type of Action'])\n",
    "df['Activity Type'] = np.where (df['Type of Action'] == 'New Image','Add Image', df['Activity Type'])\n",
    "\n",
    "#edited images\n",
    "df['Type of Action'] = np.where ((df['Activity Type'] =='set_image'),'Edit Image', df['Type of Action'])\n",
    "df['Activity Type'] = np.where (df['Type of Action'] == 'Edit Image','Edit Image', df['Activity Type'])\n",
    "#All_Teams.loc[All_Teams['Activity Type']=='set_image']"
   ]
  },
  {
   "cell_type": "code",
   "execution_count": null,
   "metadata": {},
   "outputs": [],
   "source": [
    "#data clean up\n",
    "df['Type of Action'] = np.where ((df['Type of Action'] == 'Empty') & (df['Activity Type'] == 'delete'),'Line Deletion', df['Type of Action'])\n",
    "df['Type of Action'] = np.where ((df['Type of Action'] == 'Empty') & (df['Activity Type'] == 'edit'),'Line Deletion', df['Type of Action'])"
   ]
  },
  {
   "cell_type": "code",
   "execution_count": null,
   "metadata": {},
   "outputs": [],
   "source": [
    "#split into multiple dataframes by each team and admin group \n",
    "##Team A = daniela.meile@soartech.com, nick.anna@soartech.com,demo1.1@soartech.com, demo1.2@soartech.com\n",
    "##Team B = damian.jankowski@soartech.com, alex.crowell@soartech.com, demo1.3@soartech.com, demo1.4@soartech.com, demo1.6@soartech.com\n",
    "##Admin = angela.woods@soartech.com, admin@example.com, rebecca.goolsby@navy.mil\n",
    "\n",
    "Team_A = df[(df['Team'] == 'A') ]\n",
    "\n",
    "Team_B = df[(df['Team'] == 'B') ]\n",
    "\n",
    "Team_C = df[(df['Team'] == 'C') ]\n",
    "\n",
    "Team_D = df[(df['Team'] == 'D') ]\n",
    "\n",
    "All_Teams = df\n",
    "\n",
    "### TEAM A ###\n",
    "#Timeline of Actvities by Day dataframe creation Team A\n",
    "Team_A_Day1 = Team_A[(Team_A['Day'] == 'Day 1')]\n",
    "Team_A_Day2 = Team_A[(Team_A['Day'] == 'Day 2')]\n",
    "Team_A_Day3 = Team_A[(Team_A['Day'] == 'Day 3')]\n",
    "Team_A_Day4 = Team_A[(Team_A['Day'] == 'Day 4')]\n",
    "\n",
    "#By User\n",
    "Team_A_user1 = df[(df['Username'] == 'woltersh')] #need to specify which data is hers\n",
    "Team_A_user2 = df[(df['Username'] == 'william.kline')]\n",
    "Team_A_user3 = df[(df['Username'] == 'antonysumner')]\n",
    "Team_A_user4 = df[(df['Username'] == 'jestin.morse')]\n",
    "Team_A_user5 = df[(df['Username'] == 'miles.chrisman')]\n",
    "Team_A_user6 = df[(df['Username'] == 'bruce.forrester')]\n",
    "\n",
    "#By User1 By Day\n",
    "Team_A_user1_Day1 = Team_A_user1[(Team_A_user1['Day'] == 'Day 1')]\n",
    "Team_A_user1_Day2 = Team_A_user1[(Team_A_user1['Day'] == 'Day 2')]\n",
    "Team_A_user1_Day3 = Team_A_user1[(Team_A_user1['Day'] == 'Day 3')]\n",
    "Team_A_user1_Day4 = Team_A_user1[(Team_A_user1['Day'] == 'Day 4')]\n",
    "\n",
    "#By User2 By Day\n",
    "Team_A_user2_Day1 = Team_A_user2[(Team_A_user2['Day'] == 'Day 1')]\n",
    "Team_A_user2_Day2 = Team_A_user2[(Team_A_user2['Day'] == 'Day 2')]\n",
    "Team_A_user2_Day3 = Team_A_user2[(Team_A_user2['Day'] == 'Day 3')]\n",
    "Team_A_user2_Day4 = Team_A_user2[(Team_A_user2['Day'] == 'Day 4')]\n",
    "\n",
    "#By User3 By Day\n",
    "Team_A_user3_Day1 = Team_A_user3[(Team_A_user3['Day'] == 'Day 1')]\n",
    "Team_A_user3_Day2 = Team_A_user3[(Team_A_user3['Day'] == 'Day 2')]\n",
    "Team_A_user3_Day3 = Team_A_user3[(Team_A_user3['Day'] == 'Day 3')]\n",
    "Team_A_user3_Day4 = Team_A_user3[(Team_A_user3['Day'] == 'Day 4')]\n",
    "\n",
    "#By User4 By Day\n",
    "Team_A_user4_Day1 = Team_A_user4[(Team_A_user4['Day'] == 'Day 1')]\n",
    "Team_A_user4_Day2 = Team_A_user4[(Team_A_user4['Day'] == 'Day 2')]\n",
    "Team_A_user4_Day3 = Team_A_user4[(Team_A_user4['Day'] == 'Day 3')]\n",
    "Team_A_user4_Day4 = Team_A_user4[(Team_A_user4['Day'] == 'Day 4')]\n",
    "\n",
    "#By User5 By Day\n",
    "Team_A_user5_Day1 = Team_A_user5[(Team_A_user5['Day'] == 'Day 1')]\n",
    "Team_A_user5_Day2 = Team_A_user5[(Team_A_user5['Day'] == 'Day 2')]\n",
    "Team_A_user5_Day3 = Team_A_user5[(Team_A_user5['Day'] == 'Day 3')]\n",
    "Team_A_user5_Day4 = Team_A_user5[(Team_A_user5['Day'] == 'Day 4')]\n",
    "\n",
    "\n",
    "\n",
    "### TEAM B ###\n",
    "#Timeline of Actvities by Day dataframe creation \n",
    "Team_B_Day1 = Team_B[(Team_B['Day'] == 'Day 1')]\n",
    "Team_B_Day2 = Team_B[(Team_B['Day'] == 'Day 2')]\n",
    "Team_B_Day3 = Team_B[(Team_B['Day'] == 'Day 3')]\n",
    "Team_B_Day4 = Team_B[(Team_B['Day'] == 'Day 4')]\n",
    "\n",
    "### TEAM C ###\n",
    "#Timeline of Actvities by Day dataframe creation \n",
    "Team_C_Day1 = Team_C[(Team_C['Day'] == 'Day 1')]\n",
    "Team_C_Day2 = Team_C[(Team_C['Day'] == 'Day 2')]\n",
    "Team_C_Day3 = Team_C[(Team_C['Day'] == 'Day 3')]\n",
    "Team_C_Day4 = Team_C[(Team_C['Day'] == 'Day 4')]\n",
    "\n",
    "### TEAM D ###\n",
    "#Timeline of Actvities by Day dataframe creation \n",
    "Team_D_Day1 = Team_D[(Team_D['Day'] == 'Day 1')]\n",
    "Team_D_Day2 = Team_D[(Team_D['Day'] == 'Day 2')]\n",
    "Team_D_Day3 = Team_D[(Team_D['Day'] == 'Day 3')]\n",
    "Team_D_Day4 = Team_D[(Team_D['Day'] == 'Day 4')]\n",
    "\n",
    "## All Teams ###\n",
    "#Timeline of Actvities by Day dataframe creation Team A\n",
    "All_Teams_Day1 = df[(df['Day'] == 'Day 1')]\n",
    "All_Teams_Day2 = df[(df['Day'] == 'Day 2')]\n",
    "All_Teams_Day3 = df[(df['Day'] == 'Day 3')]\n",
    "All_Teams_Day4 = df[(df['Day'] == 'Day 4')]\n",
    "\n",
    "\n",
    "### Drop Duplicates of Each Line ###\n",
    "Team_A_LastOnly = Team_A.drop_duplicates(subset=['Line ID'], keep = 'last')\n",
    "Team_B_LastOnly = Team_B.drop_duplicates(subset=['Line ID'], keep = 'last')\n",
    "All_Teams_LastOnly = df.drop_duplicates(subset=['Line ID'], keep = 'last')\n",
    "\n",
    "Team_A_Day1_LO = Team_A_LastOnly[(Team_A_LastOnly['Day'] == 'Day 1')]\n",
    "Team_A_Day2_LO = Team_A_LastOnly[(Team_A_LastOnly['Day'] == 'Day 2')]\n",
    "Team_A_Day3_LO = Team_A_LastOnly[(Team_A_LastOnly['Day'] == 'Day 3')]\n",
    "Team_A_Day4_LO = Team_A_LastOnly[(Team_A_LastOnly['Day'] == 'Day 4')]"
   ]
  },
  {
   "cell_type": "code",
   "execution_count": null,
   "metadata": {},
   "outputs": [],
   "source": [
    "#csv\n",
    "All_Teams_LastOnly.to_csv('allLO.csv')\n",
    "Team_A_LastOnly.to_csv('teamALO.csv')\n",
    "Team_B_LastOnly.to_csv('teamBLO.csv')"
   ]
  },
  {
   "cell_type": "code",
   "execution_count": null,
   "metadata": {},
   "outputs": [],
   "source": [
    "#certain term search\n",
    "#termSearch = Team_A_Day1.\n",
    "\n",
    "#Team_A_Day1.head()\n",
    "#termSearch = Team_A_Day1[Team_A_Day1['New_Text'].str.contains('*.protest.*', regex=False)]\n",
    "#termSearch.head()\n",
    "                    "
   ]
  },
  {
   "cell_type": "code",
   "execution_count": null,
   "metadata": {},
   "outputs": [],
   "source": [
    "#white cell dataframes \n",
    "\n",
    "#certain words/accounts/groups noted by each group \n",
    "#day1 = \"nato\"\n",
    "\n",
    "#All_Teams_Day1_Content = pd.value_counts(np.array())\n",
    "#All_Teams_LastOnly['Frequency'] = df['New_Text'].apply(lambda x: x.count(day1))\n",
    "\n",
    "#dataframes by day \n",
    "#All_Teams_Day1['Content Discussed'] = All_Teams_Day1['New_Text'].str.count('NATO')\n",
    "#All_Teams_LastOnly"
   ]
  },
  {
   "cell_type": "code",
   "execution_count": null,
   "metadata": {},
   "outputs": [],
   "source": [
    "#order of data in plots\n",
    "activity_order =['add','edit','delete', 'Add Image', 'Edit Image']\n",
    "hue_order = ['add','edit','delete', 'Add Image', 'Edit Image']\n",
    "action_order = ['New Account', 'New Group', 'New Tag', 'Account Classification', 'New Image', 'Edit Image', 'Linkage - Account and Group', 'Linkage - Account and Tag', ]"
   ]
  },
  {
   "cell_type": "code",
   "execution_count": null,
   "metadata": {},
   "outputs": [],
   "source": [
    "#Plot of All Activities Across All Teams\n",
    "activity_order =['add','edit','delete', 'Add Image', 'Edit Image']\n",
    "plot = All_Teams.groupby(['Activity Type']).size()\n",
    "visual = sb.barplot(x = plot.index, y = plot.values, data = All_Teams, order=activity_order)\n",
    "visual.set_title('All Teams - Type of Events - All Days')\n",
    "for i in visual.containers:\n",
    "    visual.bar_label(i,)\n",
    "fig = visual.get_figure()\n",
    "fig.savefig('AllTeams_allActivities.png')"
   ]
  },
  {
   "cell_type": "code",
   "execution_count": null,
   "metadata": {},
   "outputs": [],
   "source": [
    "#Team A Activities \n",
    "plot = Team_A.groupby(['Activity Type']).size()\n",
    "visual = sb.barplot(x = plot.index, y = plot.values, data = Team_A, order=activity_order)\n",
    "visual.set_title('Team A - Type of Events - All Days')\n",
    "for i in visual.containers:\n",
    "    visual.bar_label(i,)\n",
    "fig = visual.get_figure()\n",
    "fig.savefig('Team_A_allActivities.png')"
   ]
  },
  {
   "cell_type": "code",
   "execution_count": null,
   "metadata": {},
   "outputs": [],
   "source": [
    "#Team B All Activities \n",
    "plot = Team_B.groupby(['Activity Type']).size()\n",
    "visual = sb.barplot(x = plot.index, y = plot.values, data = Team_B, order=activity_order)\n",
    "visual.set_title('Team B - Type of Events - All Days')\n",
    "for i in visual.containers:\n",
    "    visual.bar_label(i,)\n",
    "fig = visual.get_figure()\n",
    "fig.savefig('Team_B_allActivities.png')"
   ]
  },
  {
   "cell_type": "code",
   "execution_count": null,
   "metadata": {},
   "outputs": [],
   "source": [
    "#All Teams Activity Type by Day \n",
    "visual = sb.countplot(x = 'Day',hue = \"Activity Type\", data = All_Teams, hue_order=hue_order)\n",
    "visual.set_title('All Teams - Type of Events by Day')\n",
    "for i in visual.containers:\n",
    "    visual.bar_label(i,)\n",
    "fig = visual.get_figure()\n",
    "fig.savefig('All_Teams_ActivitiesbyDay.png')"
   ]
  },
  {
   "cell_type": "code",
   "execution_count": null,
   "metadata": {},
   "outputs": [],
   "source": [
    "#Team A Activity Type by Day \n",
    "visual = sb.countplot(x = 'Day',hue = \"Activity Type\", data = Team_A, hue_order=hue_order)\n",
    "visual.set_title('Teams A - Type of Events by Day')\n",
    "for i in visual.containers:\n",
    "    visual.bar_label(i,)\n",
    "fig = visual.get_figure()\n",
    "fig.savefig('Team_A_ActivitiesbyDay.png')"
   ]
  },
  {
   "cell_type": "code",
   "execution_count": null,
   "metadata": {},
   "outputs": [],
   "source": [
    "#Team B Activity Type by Day \n",
    "visual = sb.countplot(x = 'Day',hue = \"Activity Type\", data = Team_B, hue_order=hue_order)\n",
    "visual.set_title('Teams B - Type of Events by Day')\n",
    "for i in visual.containers:\n",
    "    visual.bar_label(i,)\n",
    "fig = visual.get_figure()\n",
    "fig.savefig('Team_B_ActivitiesbyDay.png')"
   ]
  },
  {
   "cell_type": "code",
   "execution_count": null,
   "metadata": {},
   "outputs": [],
   "source": [
    "#TeamA Day 1 Activity Actions by line \n",
    "visual = sb.scatterplot(x = 'Time', y= 'Line ID', hue = 'Activity Type', data = Team_A_Day1, hue_order = hue_order)\n",
    "visual.set_yticks([])\n",
    "visual.set_title('Team A - Day 1 by Line Activity')\n",
    "visual.xaxis.set_major_formatter(mdates.DateFormatter('%H:%M', tz=tz.gettz('US/Eastern')))\n",
    "visual.set_xlim((min(Team_A_Day1['Time'])), (max(Team_A_Day1['Time'])))\n",
    "sb.set(rc={\"figure.figsize\":(15, 5)})\n",
    "plt.savefig('Team_A_Day1_linechanges.png')"
   ]
  },
  {
   "cell_type": "code",
   "execution_count": null,
   "metadata": {},
   "outputs": [],
   "source": [
    "#TeamA Day 2 Activity Actions by line \n",
    "visual = sb.scatterplot(x = 'Time', y= 'Line ID', hue = 'Activity Type', data = Team_A_Day2, hue_order = hue_order)\n",
    "visual.set_title('Team A - Day 2 by Line Activity')\n",
    "visual.set_yticks([])\n",
    "visual.xaxis.set_major_formatter(mdates.DateFormatter('%H:%M', tz=tz.gettz('US/Eastern')))\n",
    "visual.set_xlim((min(Team_A_Day2['Time'])), (max(Team_A_Day2['Time'])))\n",
    "sb.set(rc={\"figure.figsize\":(15, 5)})\n",
    "plt.savefig('Team_A_Day2_linechanges.png')"
   ]
  },
  {
   "cell_type": "code",
   "execution_count": null,
   "metadata": {},
   "outputs": [],
   "source": [
    "#TeamA Day 3 Activity Actions by line \n",
    "visual = sb.scatterplot(x = 'Time', y= 'Line ID', hue = 'Activity Type', data = Team_A_Day3, hue_order = hue_order)\n",
    "visual.set_title('Team A - Day 3 by Line Activity')\n",
    "visual.set_yticks([])\n",
    "visual.xaxis.set_major_formatter(mdates.DateFormatter('%H:%M', tz=tz.gettz('US/Eastern')))\n",
    "visual.set_xlim((min(Team_A_Day3['Time'])), (max(Team_A_Day3['Time'])))\n",
    "sb.set(rc={\"figure.figsize\":(15, 5)})\n",
    "plt.savefig('Team_A_Day3_linechanges.png')"
   ]
  },
  {
   "cell_type": "code",
   "execution_count": null,
   "metadata": {},
   "outputs": [],
   "source": [
    "#TeamA Day 4 Activity Actions by line \n",
    "visual = sb.scatterplot(x = 'Time', y= 'Line ID', hue = 'Activity Type', data = Team_A_Day4, hue_order = hue_order)\n",
    "visual.set_title('Team A - Day 4 by Line Activity')\n",
    "visual.set_yticks([])\n",
    "visual.xaxis.set_major_formatter(mdates.DateFormatter('%H:%M', tz=tz.gettz('US/Eastern')))\n",
    "visual.set_xlim((min(Team_A_Day4['Time'])), (max(Team_A_Day4['Time'])))\n",
    "sb.set(rc={\"figure.figsize\":(15, 5)})\n",
    "plt.savefig('Team_A_Day4_linechanges.png')"
   ]
  },
  {
   "cell_type": "code",
   "execution_count": null,
   "metadata": {},
   "outputs": [],
   "source": [
    "#TeamA Day 1 Activity Actions by line \n",
    "visual = sb.scatterplot(x = 'Time', y= 'Type of Action', hue = 'Activity Type', data = Team_A_Day1, hue_order = hue_order)\n",
    "#visual.set_yticks([])\n",
    "visual.set_title('Team A - Day 1 by Timeline of Type of Activity')\n",
    "visual.xaxis.set_major_formatter(mdates.DateFormatter('%H:%M', tz=tz.gettz('US/Eastern')))\n",
    "visual.set_xlim((min(Team_A_Day1['Time'])), (max(Team_A_Day1['Time'])))\n",
    "sb.set(rc={\"figure.figsize\":(15, 6)})\n",
    "plt.savefig('Team_A_Day1_timeline_typeofactivity.png')"
   ]
  },
  {
   "cell_type": "code",
   "execution_count": null,
   "metadata": {},
   "outputs": [],
   "source": [
    "#TeamA Day 2 Activity Actions by line \n",
    "visual = sb.scatterplot(x = 'Time', y= 'Type of Action', hue = 'Activity Type', data = Team_A_Day2, hue_order = hue_order)\n",
    "#visual.set_yticks([])\n",
    "visual.set_title('Team A - Day 2 by Timeline of Type of Activity')\n",
    "visual.xaxis.set_major_formatter(mdates.DateFormatter('%H:%M', tz=tz.gettz('US/Eastern')))\n",
    "visual.set_xlim((min(Team_A_Day2['Time'])), (max(Team_A_Day2['Time'])))\n",
    "sb.set(rc={\"figure.figsize\":(15, 6)})\n",
    "plt.savefig('Team_A_Day2_timeline_typeofactivity.png')"
   ]
  },
  {
   "cell_type": "code",
   "execution_count": null,
   "metadata": {},
   "outputs": [],
   "source": [
    "#TeamA Day 3 Activity Actions by line \n",
    "visual = sb.scatterplot(x = 'Time', y= 'Type of Action', hue = 'Activity Type', data = Team_A_Day3, hue_order = hue_order)\n",
    "#visual.set_yticks([])\n",
    "visual.set_title('Team A - Day 3 by Timeline of Type of Activity')\n",
    "visual.xaxis.set_major_formatter(mdates.DateFormatter('%H:%M', tz=tz.gettz('US/Eastern')))\n",
    "visual.set_xlim((min(Team_A_Day3['Time'])), (max(Team_A_Day3['Time'])))\n",
    "sb.set(rc={\"figure.figsize\":(15, 6)})\n",
    "plt.savefig('Team_A_Day3_timeline_typeofactivity.png')"
   ]
  },
  {
   "cell_type": "code",
   "execution_count": null,
   "metadata": {},
   "outputs": [],
   "source": [
    "#TeamA Day 4 Activity Actions by line \n",
    "visual = sb.scatterplot(x = 'Time', y= 'Type of Action', hue = 'Activity Type', data = Team_A_Day4, hue_order = hue_order)\n",
    "#visual.set_yticks([])\n",
    "visual.set_title('Team A - Day 4 by Timeline of Type of Activity')\n",
    "visual.xaxis.set_major_formatter(mdates.DateFormatter('%H:%M', tz=tz.gettz('US/Eastern')))\n",
    "visual.set_xlim((min(Team_A_Day4['Time'])), (max(Team_A_Day4['Time'])))\n",
    "sb.set(rc={\"figure.figsize\":(15, 6)})\n",
    "plt.savefig('Team_A_Day4_timeline_typeofactivity.png')"
   ]
  },
  {
   "cell_type": "code",
   "execution_count": null,
   "metadata": {},
   "outputs": [],
   "source": [
    "#TeamB Day 1 Activity Actions by line \n",
    "visual = sb.scatterplot(x = 'Time', y= 'Line ID', hue = 'Activity Type', data = Team_B_Day1, hue_order = hue_order)\n",
    "visual.set_title('Team B - Day 1 by Line Activity')\n",
    "visual.xaxis.set_major_formatter(mdates.DateFormatter('%H:%M', tz=tz.gettz('US/Eastern')))\n",
    "#visual.set_xlim((min(Team_A_Day1['Time'])), (max(Team_A_Day1['Time'])))\n",
    "visual.set_yticks([])\n",
    "sb.set(rc={\"figure.figsize\":(15, 5)})\n",
    "plt.savefig('Team_B_Day1_linechanges.png')"
   ]
  },
  {
   "cell_type": "code",
   "execution_count": null,
   "metadata": {},
   "outputs": [],
   "source": [
    "#TeamB Day 2 Activity Actions by line \n",
    "visual = sb.scatterplot(x = 'Time', y= 'Line ID', hue = 'Activity Type', data = Team_B_Day2, hue_order = hue_order)\n",
    "visual.set_title('Team B - Day 2 by Line Activity')\n",
    "visual.xaxis.set_major_formatter(mdates.DateFormatter('%H:%M', tz=tz.gettz('US/Eastern')))\n",
    "#visual.set_xlim((min(Team_A_Day2['Time'])), (max(Team_A_Day2['Time'])))\n",
    "visual.set_yticks([])\n",
    "sb.set(rc={\"figure.figsize\":(15, 5)})\n",
    "plt.savefig('Team_B_Day2_linechanges.png')"
   ]
  },
  {
   "cell_type": "code",
   "execution_count": null,
   "metadata": {},
   "outputs": [],
   "source": [
    "#TeamB Day 3 Activity Actions by line \n",
    "visual = sb.scatterplot(x = 'Time', y= 'Line ID', hue = 'Activity Type', data = Team_B_Day3, hue_order = hue_order)\n",
    "visual.xaxis.set_major_formatter(mdates.DateFormatter('%H:%M', tz=tz.gettz('US/Eastern')))\n",
    "#visual.set_xlim((min(Team_A_Day3['Time'])), (max(Team_A_Day3['Time'])))\n",
    "visual.set_yticks([])\n",
    "visual.set_title('Team B - Day 3 by Line Activity')\n",
    "sb.set(rc={\"figure.figsize\":(15, 5)})\n",
    "plt.savefig('Team_B_Day3_linechanges.png')"
   ]
  },
  {
   "cell_type": "code",
   "execution_count": null,
   "metadata": {},
   "outputs": [],
   "source": [
    "#TeamB Day 4 Activity Actions by line \n",
    "visual = sb.scatterplot(x = 'Time', y= 'Line ID', hue = 'Activity Type', data = Team_B_Day4, hue_order = hue_order)\n",
    "visual.set_title('Team B - Day 4 by Line Activity')\n",
    "visual.xaxis.set_major_formatter(mdates.DateFormatter('%H:%M', tz=tz.gettz('US/Eastern')))\n",
    "#visual.set_xlim((min(Team_A_Day4['Time'])), (max(Team_A_Day4['Time'])))\n",
    "visual.set_yticks([])\n",
    "sb.set(rc={\"figure.figsize\":(15, 5)})\n",
    "plt.savefig('Team_B_Day4_linechanges.png')"
   ]
  },
  {
   "cell_type": "code",
   "execution_count": null,
   "metadata": {},
   "outputs": [],
   "source": [
    "#Team A User 1 Activity Type by Day \n",
    "visual = sb.countplot(x = 'Day',hue = \"Activity Type\", data = Team_A_user1, hue_order = hue_order)\n",
    "visual.set_title('Teams A - User 1 - Type of Events by Day')\n",
    "for i in visual.containers:\n",
    "    visual.bar_label(i,)\n",
    "fig = visual.get_figure()\n",
    "fig.savefig('Team_A_User1_ActivitiesbyDay.png')"
   ]
  },
  {
   "cell_type": "code",
   "execution_count": null,
   "metadata": {},
   "outputs": [],
   "source": [
    "#TeamA User 1 Activity Actions by line \n",
    "visual = sb.scatterplot(x = 'Time',y= 'Line ID', hue = 'Activity Type', data = Team_A_user1_Day1, hue_order = hue_order)\n",
    "visual.set_title('Team A - User 1: Day 1 by Line Activity')\n",
    "visual.xaxis.set_major_formatter(mdates.DateFormatter('%H:%M', tz=tz.gettz('US/Eastern')))\n",
    "visual.set_xlim((min(Team_A_Day1['Time'])), (max(Team_A_Day1['Time'])))\n",
    "visual.set_yticks([])\n",
    "sb.set(rc={\"figure.figsize\":(15, 5)})\n",
    "plt.savefig('Team_A_user1_Day1_linechanges.png')"
   ]
  },
  {
   "cell_type": "code",
   "execution_count": null,
   "metadata": {},
   "outputs": [],
   "source": [
    "#TeamA User 1 Activity Actions by line \n",
    "visual = sb.scatterplot(x = 'Time',y= 'Line ID', hue = 'Activity Type', data = Team_A_user1_Day2, hue_order = hue_order)\n",
    "visual.set_title('Team A - User 1: Day 2 by Line Activity')\n",
    "visual.xaxis.set_major_formatter(mdates.DateFormatter('%H:%M', tz=tz.gettz('US/Eastern')))\n",
    "visual.set_xlim((min(Team_A_Day2['Time'])), (max(Team_A_Day2['Time'])))\n",
    "visual.set_yticks([])\n",
    "sb.set(rc={\"figure.figsize\":(15, 5)})\n",
    "plt.savefig('Team_A_user1_Day2_linechanges.png')"
   ]
  },
  {
   "cell_type": "code",
   "execution_count": null,
   "metadata": {},
   "outputs": [],
   "source": [
    "#TeamA User 1 Activity Actions by line \n",
    "visual = sb.scatterplot(x = 'Time',y= 'Line ID', hue = 'Activity Type', data = Team_A_user1_Day3, hue_order = hue_order)\n",
    "visual.set_title('Team A - User 1: Day 3 by Line Activity')\n",
    "visual.xaxis.set_major_formatter(mdates.DateFormatter('%H:%M', tz=tz.gettz('US/Eastern')))\n",
    "visual.set_xlim((min(Team_A_Day3['Time'])), (max(Team_A_Day3['Time'])))\n",
    "visual.set_yticks([])\n",
    "sb.set(rc={\"figure.figsize\":(15, 5)})\n",
    "plt.savefig('Team_A_user1_Day3_linechanges.png')"
   ]
  },
  {
   "cell_type": "code",
   "execution_count": null,
   "metadata": {},
   "outputs": [],
   "source": [
    "#TeamA User 1 Activity Actions by line \n",
    "visual = sb.scatterplot(x = 'Time',y= 'Line ID', hue = 'Activity Type', data = Team_A_user1_Day4, hue_order = hue_order)\n",
    "visual.set_title('Team A - User 1: Day 4 by Line Activity')\n",
    "visual.xaxis.set_major_formatter(mdates.DateFormatter('%H:%M', tz=tz.gettz('US/Eastern')))\n",
    "visual.set_xlim((min(Team_A_Day4['Time'])), (max(Team_A_Day4['Time'])))\n",
    "visual.set_yticks([])\n",
    "sb.set(rc={\"figure.figsize\":(15, 5)})\n",
    "plt.savefig('Team_A_user1_Day4_linechanges.png')"
   ]
  },
  {
   "cell_type": "code",
   "execution_count": null,
   "metadata": {},
   "outputs": [],
   "source": [
    "#Team A User2\n",
    "visual = sb.countplot(x = 'Type of Action', data = Team_A_user1)\n",
    "visual.set_xticklabels(visual.get_xticklabels(), rotation=45, horizontalalignment='right')\n",
    "visual.set_title('Team A - User 1 Type of Action for All Days')\n",
    "for i in visual.containers:\n",
    "    visual.bar_label(i,)\n",
    "fig = visual.get_figure()\n",
    "fig.subplots_adjust(bottom=0.5)\n",
    "#sb.set(rc={\"figure.figsize\":(15, 5)})\n",
    "fig.savefig('TeamA_User1_TypeofActionofAllDay.png')"
   ]
  },
  {
   "cell_type": "code",
   "execution_count": null,
   "metadata": {},
   "outputs": [],
   "source": [
    "#Team A User1 Day1 Action on Day 1\n",
    "visual = sb.countplot(x = 'Type of Action', data = Team_A_user1_Day1)\n",
    "visual.set_xticklabels(visual.get_xticklabels(), rotation=45, horizontalalignment='right')\n",
    "visual.set_title('Team 1 - User 1: Day 1 Type of Action')\n",
    "for i in visual.containers:\n",
    "    visual.bar_label(i,)\n",
    "fig = visual.get_figure()\n",
    "fig.subplots_adjust(bottom=0.5)\n",
    "fig.savefig('TeamA_User1_Day1_TypeofActionbyDay.png')"
   ]
  },
  {
   "cell_type": "code",
   "execution_count": null,
   "metadata": {},
   "outputs": [],
   "source": [
    "#Team A User1 Day1 Action on Day 2 \n",
    "visual = sb.countplot(x = 'Type of Action', data = Team_A_user1_Day2)\n",
    "visual.set_xticklabels(visual.get_xticklabels(), rotation=45, horizontalalignment='right')\n",
    "visual.set_title('Team 1 - User 1: Day 2 Type of Action')\n",
    "for i in visual.containers:\n",
    "    visual.bar_label(i,)\n",
    "fig = visual.get_figure()\n",
    "fig.subplots_adjust(bottom=0.5)\n",
    "fig.savefig('TeamA_User1_Day2_TypeofActionbyDay.png')"
   ]
  },
  {
   "cell_type": "code",
   "execution_count": null,
   "metadata": {},
   "outputs": [],
   "source": [
    "#Team A User1 Day1 Action on Day 3 \n",
    "visual = sb.countplot(x = 'Type of Action', data = Team_A_user1_Day3)\n",
    "visual.set_xticklabels(visual.get_xticklabels(), rotation=45, horizontalalignment='right')\n",
    "visual.set_title('Team 1 - User 1: Day 3 Type of Action')\n",
    "for i in visual.containers:\n",
    "    visual.bar_label(i,)\n",
    "fig = visual.get_figure()\n",
    "fig.subplots_adjust(bottom=0.5)\n",
    "fig.savefig('TeamA_User1_Day3_TypeofActionbyDay.png')"
   ]
  },
  {
   "cell_type": "code",
   "execution_count": null,
   "metadata": {},
   "outputs": [],
   "source": [
    "#Team A User1 Day1 Action on Day 2 \n",
    "visual = sb.countplot(x = 'Type of Action', data = Team_A_user1_Day4)\n",
    "visual.set_xticklabels(visual.get_xticklabels(), rotation=45, horizontalalignment='right')\n",
    "visual.set_title('Team 1 - User 1: Day 4 Type of Action')\n",
    "for i in visual.containers:\n",
    "    visual.bar_label(i,)\n",
    "fig = visual.get_figure()\n",
    "fig.subplots_adjust(bottom=0.5)\n",
    "fig.savefig('TeamA_User1_Day4_TypeofActionbyDay.png')"
   ]
  },
  {
   "cell_type": "code",
   "execution_count": null,
   "metadata": {},
   "outputs": [],
   "source": [
    "#TeamA User 1 Activity Actions by line \n",
    "visual = sb.scatterplot(x = 'Time', y= 'Type of Action', hue = 'Activity Type', data = Team_A_user1_Day1)\n",
    "visual.set_title('Team A - User 1: Day 1 Timeline of Type of Actions')\n",
    "visual.xaxis.set_major_formatter(mdates.DateFormatter('%H:%M', tz=tz.gettz('US/Eastern')))\n",
    "visual.set_xlim((min(Team_A_Day1['Time'])), (max(Team_A_Day1['Time'])))\n",
    "#visual.set_yticks([])\n",
    "sb.set(rc={\"figure.figsize\":(15, 5)})\n",
    "plt.subplots_adjust(left=0.2)\n",
    "plt.savefig('Team_A_user1_Day1_timeline_typeofactivity.png')"
   ]
  },
  {
   "cell_type": "code",
   "execution_count": null,
   "metadata": {},
   "outputs": [],
   "source": [
    "#TeamA User 1 Activity Actions by line \n",
    "visual = sb.scatterplot(x = 'Time', y= 'Type of Action', hue = 'Activity Type', data = Team_A_user1_Day2)\n",
    "visual.set_title('Team A - User 1: Day 2 Timeline of Type of Actions')\n",
    "visual.xaxis.set_major_formatter(mdates.DateFormatter('%H:%M', tz=tz.gettz('US/Eastern')))\n",
    "visual.set_xlim((min(Team_A_Day2['Time'])), (max(Team_A_Day2['Time'])))\n",
    "#visual.set_yticks([])\n",
    "sb.set(rc={\"figure.figsize\":(15, 5)})\n",
    "plt.subplots_adjust(left=0.2)\n",
    "plt.savefig('Team_A_user1_Day2_timeline_typeofactivity.png')"
   ]
  },
  {
   "cell_type": "code",
   "execution_count": null,
   "metadata": {},
   "outputs": [],
   "source": [
    "#TeamA User 1 Activity Actions by line \n",
    "visual = sb.scatterplot(x = 'Time', y= 'Type of Action', hue = 'Activity Type', data = Team_A_user1_Day3)\n",
    "visual.set_title('Team A - User 1: Day 3 Timeline of Type of Actions')\n",
    "visual.xaxis.set_major_formatter(mdates.DateFormatter('%H:%M', tz=tz.gettz('US/Eastern')))\n",
    "visual.set_xlim((min(Team_A_Day3['Time'])), (max(Team_A_Day3['Time'])))\n",
    "#visual.set_yticks([])\n",
    "sb.set(rc={\"figure.figsize\":(15, 5)})\n",
    "plt.subplots_adjust(left=0.2)\n",
    "plt.savefig('Team_A_user1_Day3_timeline_typeofactivity.png')"
   ]
  },
  {
   "cell_type": "code",
   "execution_count": null,
   "metadata": {},
   "outputs": [],
   "source": [
    "#TeamA User 1 Activity Actions by line \n",
    "visual = sb.scatterplot(x = 'Time', y= 'Type of Action', hue = 'Activity Type', data = Team_A_user1_Day4)\n",
    "visual.set_title('Team A - User 1: Day 4 Timeline of Type of Actions')\n",
    "visual.xaxis.set_major_formatter(mdates.DateFormatter('%H:%M', tz=tz.gettz('US/Eastern')))\n",
    "visual.set_xlim((min(Team_A_Day4['Time'])), (max(Team_A_Day4['Time'])))\n",
    "#visual.set_yticks([])\n",
    "sb.set(rc={\"figure.figsize\":(15, 5)})\n",
    "plt.subplots_adjust(left=0.2)\n",
    "plt.savefig('Team_A_user1_Day4_timeline_typeofactivity.png')"
   ]
  },
  {
   "cell_type": "code",
   "execution_count": null,
   "metadata": {},
   "outputs": [],
   "source": [
    "#Team A User 2 Activity Type by Day \n",
    "visual = sb.countplot(x = 'Day',hue = \"Activity Type\", data = Team_A_user2, hue_order = hue_order)\n",
    "visual.set_title('Teams A - User 2 - Type of Events by Day')\n",
    "for i in visual.containers:\n",
    "    visual.bar_label(i,)\n",
    "fig = visual.get_figure()\n",
    "fig.savefig('Team_A_User2_ActivitiesbyDay.png')"
   ]
  },
  {
   "cell_type": "code",
   "execution_count": null,
   "metadata": {},
   "outputs": [],
   "source": [
    "#TeamA User 2 Activity Actions by line \n",
    "visual = sb.scatterplot(x = 'Time',y= 'Line ID', hue = 'Activity Type', data = Team_A_user2_Day1, hue_order = hue_order)\n",
    "visual.set_title('Team A - User 2: Day 1 by Line Activity')\n",
    "visual.xaxis.set_major_formatter(mdates.DateFormatter('%H:%M', tz=tz.gettz('US/Eastern')))\n",
    "visual.set_xlim((min(Team_A_Day1['Time'])), (max(Team_A_Day1['Time'])))\n",
    "visual.set_yticks([])\n",
    "sb.set(rc={\"figure.figsize\":(15, 5)})\n",
    "plt.savefig('Team_A_user2_Day1_linechanges.png')"
   ]
  },
  {
   "cell_type": "code",
   "execution_count": null,
   "metadata": {},
   "outputs": [],
   "source": [
    "#TeamA User 2 Activity Actions by line \n",
    "visual = sb.scatterplot(x = 'Time', y= 'Line ID', hue = 'Activity Type', data = Team_A_user2_Day2, hue_order = hue_order)\n",
    "visual.set_title('Team A - User 2: Day 2 by Line Activity')\n",
    "visual.xaxis.set_major_formatter(mdates.DateFormatter('%H:%M', tz=tz.gettz('US/Eastern')))\n",
    "visual.set_xlim((min(Team_A_Day2['Time'])), (max(Team_A_Day2['Time'])))\n",
    "visual.set_yticks([])\n",
    "sb.set(rc={\"figure.figsize\":(15, 5)})\n",
    "plt.savefig('Team_A_user2_Day2_linechanges.png')"
   ]
  },
  {
   "cell_type": "code",
   "execution_count": null,
   "metadata": {},
   "outputs": [],
   "source": [
    "#TeamA User 2 Activity Actions by line \n",
    "visual = sb.scatterplot(x = 'Time', y= 'Line ID', hue = 'Activity Type', data = Team_A_user2_Day3, hue_order = hue_order)\n",
    "visual.set_title('Team A - User 2: Day 3 by Line Activity')\n",
    "visual.xaxis.set_major_formatter(mdates.DateFormatter('%H:%M', tz=tz.gettz('US/Eastern')))\n",
    "visual.set_xlim((min(Team_A_Day3['Time'])), (max(Team_A_Day3['Time'])))\n",
    "visual.set_yticks([])\n",
    "sb.set(rc={\"figure.figsize\":(15, 5)})\n",
    "plt.savefig('Team_A_user2_Day3_linechanges.png')"
   ]
  },
  {
   "cell_type": "code",
   "execution_count": null,
   "metadata": {},
   "outputs": [],
   "source": [
    "#TeamA User 2 Activity Actions by line \n",
    "visual = sb.scatterplot(x = 'Time', y= 'Line ID', hue = 'Activity Type', data = Team_A_user2_Day4, hue_order = hue_order)\n",
    "visual.set_title('Team A - User 2: Day 4 by Line Activity')\n",
    "visual.xaxis.set_major_formatter(mdates.DateFormatter('%H:%M', tz=tz.gettz('US/Eastern')))\n",
    "visual.set_xlim((min(Team_A_Day4['Time'])), (max(Team_A_Day4['Time'])))\n",
    "visual.set_yticks([])\n",
    "sb.set(rc={\"figure.figsize\":(15, 5)})\n",
    "plt.savefig('Team_A_user2_Day4_linechanges.png')"
   ]
  },
  {
   "cell_type": "code",
   "execution_count": null,
   "metadata": {},
   "outputs": [],
   "source": [
    "#Team A User2\n",
    "visual = sb.countplot(x = 'Type of Action', data = Team_A_user2)\n",
    "visual.set_xticklabels(visual.get_xticklabels(), rotation=45, horizontalalignment='right')\n",
    "visual.set_title('Team A - User 2 Type of Action for All Days')\n",
    "for i in visual.containers:\n",
    "    visual.bar_label(i,)\n",
    "fig = visual.get_figure()\n",
    "fig.subplots_adjust(bottom=0.5)\n",
    "#sb.set(rc={\"figure.figsize\":(15, 5)})\n",
    "fig.savefig('TeamA_User2_TypeofActionofAllDay.png')"
   ]
  },
  {
   "cell_type": "code",
   "execution_count": null,
   "metadata": {},
   "outputs": [],
   "source": [
    "#Team A User2 Day1 Action on Day 1 \n",
    "visual = sb.countplot(x = 'Type of Action', data = Team_A_user2_Day1)\n",
    "visual.set_xticklabels(visual.get_xticklabels(), rotation=45, horizontalalignment='right')\n",
    "visual.set_title('Team A - User 2: Day 1 Type of Action')\n",
    "for i in visual.containers:\n",
    "    visual.bar_label(i,)\n",
    "fig = visual.get_figure()\n",
    "fig.subplots_adjust(bottom=0.5)\n",
    "#sb.set(rc={\"figure.figsize\":(15, 5)})\n",
    "fig.savefig('TeamA_User2_Day1_TypeofActionbyDay.png')"
   ]
  },
  {
   "cell_type": "code",
   "execution_count": null,
   "metadata": {},
   "outputs": [],
   "source": [
    "#Team A User2 Day1 Action on Day 2 \n",
    "if not (Team_A_user2_Day2.empty):\n",
    "    visual = sb.countplot(x = 'Type of Action', data = Team_A_user2_Day2)\n",
    "visual.set_title('Team 1 - User 2: Day 2 Type of Action')\n",
    "visual.set_xticklabels(visual.get_xticklabels(), rotation=45, horizontalalignment='right')\n",
    "for i in visual.containers:\n",
    "    visual.bar_label(i,)\n",
    "fig = visual.get_figure()\n",
    "fig.savefig('TeamA_User2_Day2_TypeofActionbyDay.png')"
   ]
  },
  {
   "cell_type": "code",
   "execution_count": null,
   "metadata": {},
   "outputs": [],
   "source": [
    "if not (Team_A_user2_Day3.empty):#Team A User2 Day1 Action on Day 3 \n",
    "\n",
    "    visual = sb.countplot(x = 'Type of Action', data = Team_A_user2_Day3)\n",
    "visual.set_title('Team 1 - User 2: Day 3 Type of Action')\n",
    "visual.set_xticklabels(visual.get_xticklabels(), rotation=45, horizontalalignment='right')\n",
    "for i in visual.containers:\n",
    "    visual.bar_label(i,)\n",
    "fig = visual.get_figure()\n",
    "fig.subplots_adjust(bottom=0.5)\n",
    "fig.savefig('TeamA_User2_Day3_TypeofActionbyDay.png')"
   ]
  },
  {
   "cell_type": "code",
   "execution_count": null,
   "metadata": {},
   "outputs": [],
   "source": [
    "#Team A User2 Day1 Action on Day 4 \n",
    "if not (Team_A_user2_Day4.empty):\n",
    "    visual = sb.countplot(x = 'Type of Action', data = Team_A_user2_Day4)\n",
    "visual.set_title('Team 1 - User 2: Day 4 Type of Action')\n",
    "visual.set_xticklabels(visual.get_xticklabels(), rotation=45, horizontalalignment='right')\n",
    "for i in visual.containers:\n",
    "    visual.bar_label(i,)\n",
    "fig = visual.get_figure()\n",
    "fig.subplots_adjust(bottom=0.5)\n",
    "fig.savefig('TeamA_User2_Day4_TypeofActionbyDay.png')"
   ]
  },
  {
   "cell_type": "code",
   "execution_count": null,
   "metadata": {},
   "outputs": [],
   "source": [
    "#TeamA User 2 Activity Actions by line \n",
    "if not (Team_A_user2_Day1.empty):\n",
    "    visual = sb.scatterplot(x = 'Time', y= 'Type of Action', hue = 'Activity Type', data = Team_A_user2_Day1)\n",
    "visual.set_title('Team A - User 2: Day 1 Timeline of Type of Actions')\n",
    "visual.xaxis.set_major_formatter(mdates.DateFormatter('%H:%M', tz=tz.gettz('US/Eastern')))\n",
    "#visual.set_xlim((min(Team_A_Day1['Time'])), (max(Team_A_Day1['Time'])))\n",
    "#visual.set_yticks([])\n",
    "sb.set(rc={\"figure.figsize\":(15, 5)})\n",
    "plt.subplots_adjust(left=0.2)\n",
    "plt.savefig('Team_A_user2_Day1_timeline_typeofactivity.png')"
   ]
  },
  {
   "cell_type": "code",
   "execution_count": null,
   "metadata": {},
   "outputs": [],
   "source": [
    "#TeamA User 2 Activity Actions by line \n",
    "if not (Team_A_user2_Day2.empty):\n",
    "    visual = sb.scatterplot(x = 'Time', y= 'Type of Action', hue = 'Activity Type', data = Team_A_user2_Day2)\n",
    "visual.set_title('Team A - User 2: Day 2 Timeline of Type of Actions')\n",
    "visual.xaxis.set_major_formatter(mdates.DateFormatter('%H:%M', tz=tz.gettz('US/Eastern')))\n",
    "#visual.set_xlim((min(Team_A_Day2['Time'])), (max(Team_A_Day2['Time'])))\n",
    "#visual.set_yticks([])\n",
    "sb.set(rc={\"figure.figsize\":(15, 5)})\n",
    "plt.subplots_adjust(left=0.2)\n",
    "plt.savefig('Team_A_user2_Day2_timeline_typeofactivity.png')"
   ]
  },
  {
   "cell_type": "code",
   "execution_count": null,
   "metadata": {},
   "outputs": [],
   "source": [
    "#TeamA User 2 Activity Actions by line \n",
    "if not (Team_A_user2_Day2.empty):\n",
    "    visual = sb.scatterplot(x = 'Time', y= 'Type of Action', hue = 'Activity Type', data = Team_A_user2_Day3)\n",
    "visual.set_title('Team A - User 2: Day 3 Timeline of Type of Actions')\n",
    "#visual.xaxis.set_major_formatter(mdates.DateFormatter('%H:%M', tz=tz.gettz('US/Eastern')))\n",
    "visual.set_xlim((min(Team_A_Day3['Time'])), (max(Team_A_Day3['Time'])))\n",
    "#visual.set_yticks([])\n",
    "sb.set(rc={\"figure.figsize\":(15, 5)})\n",
    "plt.subplots_adjust(left=0.2)\n",
    "plt.savefig('Team_A_user2_Day3_timeline_typeofactivity.png')"
   ]
  },
  {
   "cell_type": "code",
   "execution_count": null,
   "metadata": {},
   "outputs": [],
   "source": [
    "#TeamA User 2 Activity Actions by line \n",
    "visual = sb.scatterplot(x = 'Time', y= 'Type of Action', hue = 'Activity Type', data = Team_A_user2_Day4)\n",
    "visual.set_title('Team A - User 2: Day 4 Timeline of Type of Actions')\n",
    "visual.xaxis.set_major_formatter(mdates.DateFormatter('%H:%M', tz=tz.gettz('US/Eastern')))\n",
    "#visual.set_xlim((min(Team_A_Day4['Time'])), (max(Team_A_Day4['Time'])))\n",
    "#visual.set_yticks([])\n",
    "sb.set(rc={\"figure.figsize\":(15, 5)})\n",
    "plt.subplots_adjust(left=0.2)\n",
    "plt.savefig('Team_A_user2_Day4_timeline_typeofactivity.png')"
   ]
  },
  {
   "cell_type": "code",
   "execution_count": null,
   "metadata": {},
   "outputs": [],
   "source": [
    "#Team A User 3 Activity Type by Day \n",
    "visual = sb.countplot(x = 'Day',hue = \"Activity Type\", data = Team_A_user3, hue_order = hue_order)\n",
    "visual.set_title('Teams A - User 3 - Type of Events by Day')\n",
    "for i in visual.containers:\n",
    "    visual.bar_label(i,)\n",
    "fig = visual.get_figure()\n",
    "fig.savefig('Team_A_User3_ActivitiesbyDay.png')"
   ]
  },
  {
   "cell_type": "code",
   "execution_count": null,
   "metadata": {},
   "outputs": [],
   "source": [
    "#TeamA User 3 Activity Actions by line \n",
    "visual = sb.scatterplot(x = 'Time',y= 'Line ID', hue = 'Activity Type', data = Team_A_user3_Day1, hue_order = hue_order)\n",
    "visual.set_title('Team A - User 3: Day 1 by Line Activity')\n",
    "visual.xaxis.set_major_formatter(mdates.DateFormatter('%H:%M', tz=tz.gettz('US/Eastern')))\n",
    "#visual.set_xlim((min(Team_A_Day1['Time'])), (max(Team_A_Day1['Time'])))\n",
    "visual.set_yticks([])\n",
    "sb.set(rc={\"figure.figsize\":(15, 5)})\n",
    "plt.savefig('Team_A_user3_Day1_linechanges.png')"
   ]
  },
  {
   "cell_type": "code",
   "execution_count": null,
   "metadata": {},
   "outputs": [],
   "source": [
    "#TeamA User 3 Activity Actions by line \n",
    "visual = sb.scatterplot(x = 'Time',y= 'Line ID', hue = 'Activity Type', data = Team_A_user3_Day2, hue_order = hue_order)\n",
    "visual.set_title('Team A - User 3: Day 2 by Line Activity')\n",
    "visual.xaxis.set_major_formatter(mdates.DateFormatter('%H:%M', tz=tz.gettz('US/Eastern')))\n",
    "#visual.set_xlim((min(Team_A_Day2['Time'])), (max(Team_A_Day2['Time'])))\n",
    "visual.set_yticks([])\n",
    "sb.set(rc={\"figure.figsize\":(15, 5)})\n",
    "plt.savefig('Team_A_user3_Day2_linechanges.png')"
   ]
  },
  {
   "cell_type": "code",
   "execution_count": null,
   "metadata": {},
   "outputs": [],
   "source": [
    "#TeamA User 3 Activity Actions by line \n",
    "visual = sb.scatterplot(x = 'Time',y= 'Line ID', hue = 'Activity Type', data = Team_A_user3_Day3, hue_order = hue_order)\n",
    "visual.set_title('Team A - User 3: Day 3 by Line Activity')\n",
    "visual.xaxis.set_major_formatter(mdates.DateFormatter('%H:%M', tz=tz.gettz('US/Eastern')))\n",
    "#visual.set_xlim((min(Team_A_Day3['Time'])), (max(Team_A_Day3['Time'])))\n",
    "visual.set_yticks([])\n",
    "sb.set(rc={\"figure.figsize\":(15, 5)})\n",
    "plt.savefig('Team_A_user3_Day3_linechanges.png')"
   ]
  },
  {
   "cell_type": "code",
   "execution_count": null,
   "metadata": {},
   "outputs": [],
   "source": [
    "#TeamA User 3 Activity Actions by line \n",
    "visual = sb.scatterplot(x = 'Time',y= 'Line ID', hue = 'Activity Type', data = Team_A_user3_Day4, hue_order = hue_order)\n",
    "visual.set_title('Team A - User 3: Day 4 by Line Activity')\n",
    "visual.xaxis.set_major_formatter(mdates.DateFormatter('%H:%M', tz=tz.gettz('US/Eastern')))\n",
    "#visual.set_xlim((min(Team_A_Day4['Time'])), (max(Team_A_Day4['Time'])))\n",
    "visual.set_yticks([])\n",
    "sb.set(rc={\"figure.figsize\":(15, 5)})\n",
    "plt.savefig('Team_A_user3_Day4_linechanges.png')"
   ]
  },
  {
   "cell_type": "code",
   "execution_count": null,
   "metadata": {},
   "outputs": [],
   "source": [
    "#Team A User4\n",
    "visual = sb.countplot(x = 'Type of Action', data = Team_A_user3)\n",
    "visual.set_xticklabels(visual.get_xticklabels(), rotation=45, horizontalalignment='right')\n",
    "visual.set_title('Team A - User 3 Type of Action for All Days')\n",
    "for i in visual.containers:\n",
    "    visual.bar_label(i,)\n",
    "fig = visual.get_figure()\n",
    "fig.subplots_adjust(bottom=0.5)\n",
    "#sb.set(rc={\"figure.figsize\":(15, 5)})\n",
    "fig.savefig('TeamA_User3_TypeofActionofAllDay.png')"
   ]
  },
  {
   "cell_type": "code",
   "execution_count": null,
   "metadata": {},
   "outputs": [],
   "source": [
    "#Team A User3 Action on Day 1 \n",
    "visual = sb.countplot(x = 'Type of Action', data = Team_A_user3_Day1)\n",
    "visual.set_xticklabels(visual.get_xticklabels(), rotation=45, horizontalalignment='right')\n",
    "visual.set_title('Team A - User 3: Day 1 Type of Action')\n",
    "for i in visual.containers:\n",
    "    visual.bar_label(i,)\n",
    "fig = visual.get_figure()\n",
    "fig.subplots_adjust(bottom=0.5)\n",
    "#sb.set(rc={\"figure.figsize\":(15, 5)})\n",
    "fig.savefig('TeamA_User3_Day1_TypeofActionbyDay.png')"
   ]
  },
  {
   "cell_type": "code",
   "execution_count": null,
   "metadata": {},
   "outputs": [],
   "source": [
    "#Team A User3 Action on Day 2\n",
    "visual = sb.countplot(x = 'Type of Action', data = Team_A_user3_Day2)\n",
    "visual.set_xticklabels(visual.get_xticklabels(), rotation=45, horizontalalignment='right')\n",
    "visual.set_title('Team A - User 3: Day 2 Type of Action')\n",
    "for i in visual.containers:\n",
    "    visual.bar_label(i,)\n",
    "fig = visual.get_figure()\n",
    "fig.subplots_adjust(bottom=0.5)\n",
    "#sb.set(rc={\"figure.figsize\":(15, 5)})\n",
    "fig.savefig('TeamA_User3_Day2_TypeofActionbyDay.png')"
   ]
  },
  {
   "cell_type": "code",
   "execution_count": null,
   "metadata": {},
   "outputs": [],
   "source": [
    "#Team A User3 Action on Day 3\n",
    "visual = sb.countplot(x = 'Type of Action', data = Team_A_user3_Day3)\n",
    "visual.set_xticklabels(visual.get_xticklabels(), rotation=45, horizontalalignment='right')\n",
    "visual.set_title('Team A - User 3: Day 3 Type of Action')\n",
    "for i in visual.containers:\n",
    "    visual.bar_label(i,)\n",
    "fig = visual.get_figure()\n",
    "fig.subplots_adjust(bottom=0.5)\n",
    "#sb.set(rc={\"figure.figsize\":(15, 5)})\n",
    "fig.savefig('TeamA_User3_Day3_TypeofActionbyDay.png')"
   ]
  },
  {
   "cell_type": "code",
   "execution_count": null,
   "metadata": {},
   "outputs": [],
   "source": [
    "#Team A User3 Action on Day 2\n",
    "visual = sb.countplot(x = 'Type of Action', data = Team_A_user3_Day4)\n",
    "visual.set_xticklabels(visual.get_xticklabels(), rotation=45, horizontalalignment='right')\n",
    "visual.set_title('Team A - User 3: Day 4 Type of Action')\n",
    "for i in visual.containers:\n",
    "    visual.bar_label(i,)\n",
    "fig = visual.get_figure()\n",
    "fig.subplots_adjust(bottom=0.5)\n",
    "#sb.set(rc={\"figure.figsize\":(15, 5)})\n",
    "fig.savefig('TeamA_User3_Day4_TypeofActionbyDay.png')"
   ]
  },
  {
   "cell_type": "code",
   "execution_count": null,
   "metadata": {},
   "outputs": [],
   "source": [
    "#TeamA User 3 Activity Actions by line \n",
    "visual = sb.scatterplot(x = 'Time', y= 'Type of Action', hue = 'Activity Type', data = Team_A_user3_Day1)\n",
    "visual.set_title('Team A - User 3: Day 1 Timeline of Type of Actions')\n",
    "visual.xaxis.set_major_formatter(mdates.DateFormatter('%H:%M', tz=tz.gettz('US/Eastern')))\n",
    "#visual.set_xlim((min(Team_A_Day1['Time'])), (max(Team_A_Day1['Time'])))\n",
    "#visual.set_yticks([])\n",
    "sb.set(rc={\"figure.figsize\":(15, 5)})\n",
    "plt.subplots_adjust(left=0.2)\n",
    "plt.savefig('Team_A_user3_Day1_timeline_typeofactivity.png')"
   ]
  },
  {
   "cell_type": "code",
   "execution_count": null,
   "metadata": {},
   "outputs": [],
   "source": [
    "#TeamA User 3 Activity Actions by line \n",
    "visual = sb.scatterplot(x = 'Time', y= 'Type of Action', hue = 'Activity Type', data = Team_A_user3_Day2)\n",
    "visual.set_title('Team A - User 3: Day 2 Timeline of Type of Actions')\n",
    "visual.xaxis.set_major_formatter(mdates.DateFormatter('%H:%M', tz=tz.gettz('US/Eastern')))\n",
    "#visual.set_xlim((min(Team_A_Day2['Time'])), (max(Team_A_Day2['Time'])))\n",
    "#visual.set_yticks([])\n",
    "sb.set(rc={\"figure.figsize\":(15, 5)})\n",
    "plt.subplots_adjust(left=0.2)\n",
    "plt.savefig('Team_A_user3_Day2_timeline_typeofactivity.png')"
   ]
  },
  {
   "cell_type": "code",
   "execution_count": null,
   "metadata": {},
   "outputs": [],
   "source": [
    "#TeamA User 3 Activity Actions by line \n",
    "visual = sb.scatterplot(x = 'Time', y= 'Type of Action', hue = 'Activity Type', data = Team_A_user3_Day3)\n",
    "visual.set_title('Team A - User 3: Day 3 Timeline of Type of Actions')\n",
    "visual.xaxis.set_major_formatter(mdates.DateFormatter('%H:%M', tz=tz.gettz('US/Eastern')))\n",
    "visual.set_xlim((min(Team_A_Day3['Time'])), (max(Team_A_Day3['Time'])))\n",
    "#visual.set_yticks([])\n",
    "sb.set(rc={\"figure.figsize\":(15, 5)})\n",
    "plt.subplots_adjust(left=0.2)\n",
    "plt.savefig('Team_A_user3_Day3_timeline_typeofactivity.png')"
   ]
  },
  {
   "cell_type": "code",
   "execution_count": null,
   "metadata": {},
   "outputs": [],
   "source": [
    "#TeamA User 2 Activity Actions by line \n",
    "visual = sb.scatterplot(x = 'Time', y= 'Type of Action', hue = 'Activity Type', data = Team_A_user3_Day4)\n",
    "visual.set_title('Team A - User 3: Day 4 Timeline of Type of Actions')\n",
    "visual.xaxis.set_major_formatter(mdates.DateFormatter('%H:%M', tz=tz.gettz('US/Eastern')))\n",
    "#visual.set_xlim((min(Team_A_Day4['Time'])), (max(Team_A_Day4['Time'])))\n",
    "#visual.set_yticks([])\n",
    "sb.set(rc={\"figure.figsize\":(15, 5)})\n",
    "plt.subplots_adjust(left=0.2)\n",
    "plt.savefig('Team_A_user3_Day4_timeline_typeofactivity.png')"
   ]
  },
  {
   "cell_type": "code",
   "execution_count": null,
   "metadata": {},
   "outputs": [],
   "source": [
    "#Team A User 4 Activity Type by Day \n",
    "visual = sb.countplot(x = 'Day',hue = \"Activity Type\", data = Team_A_user4, hue_order = hue_order)\n",
    "visual.set_title('Teams A - User 4 - Type of Events by Day')\n",
    "for i in visual.containers:\n",
    "    visual.bar_label(i,)\n",
    "fig = visual.get_figure()\n",
    "fig.savefig('Team_A_User4_ActivitiesbyDay.png')"
   ]
  },
  {
   "cell_type": "code",
   "execution_count": null,
   "metadata": {},
   "outputs": [],
   "source": [
    "#TeamA User 4 Activity Actions by line \n",
    "visual = sb.scatterplot(x = 'Time',y= 'Line ID', hue = 'Activity Type', data = Team_A_user4_Day1, hue_order = hue_order)\n",
    "visual.set_title('Team A - User 4: Day 1 by Line Activity')\n",
    "visual.xaxis.set_major_formatter(mdates.DateFormatter('%H:%M', tz=tz.gettz('US/Eastern')))\n",
    "visual.set_yticks([])\n",
    "#visual.set_xlim((min(Team_A_Day1['Time'])), (max(Team_A_Day1['Time'])))\n",
    "sb.set(rc={\"figure.figsize\":(15, 5)})\n",
    "plt.savefig('Team_A_user4_Day1_linechanges.png')"
   ]
  },
  {
   "cell_type": "code",
   "execution_count": null,
   "metadata": {},
   "outputs": [],
   "source": [
    "#TeamA User 3 Activity Actions by line \n",
    "visual = sb.scatterplot(x = 'Time',y= 'Line ID', hue = 'Activity Type', data = Team_A_user4_Day2, hue_order = hue_order)\n",
    "visual.set_title('Team A - User 4: Day 2 by Line Activity')\n",
    "visual.xaxis.set_major_formatter(mdates.DateFormatter('%H:%M', tz=tz.gettz('US/Eastern')))\n",
    "#visual.set_xlim((min(Team_A_Day2['Time'])), (max(Team_A_Day2['Time'])))\n",
    "visual.set_yticks([])\n",
    "sb.set(rc={\"figure.figsize\":(15, 5)})\n",
    "plt.savefig('Team_A_user4_Day2_linechanges.png')"
   ]
  },
  {
   "cell_type": "code",
   "execution_count": null,
   "metadata": {},
   "outputs": [],
   "source": [
    "#TeamA User 3 Activity Actions by line \n",
    "visual = sb.scatterplot(x = 'Time',y= 'Line ID', hue = 'Activity Type', data = Team_A_user4_Day3, hue_order = hue_order)\n",
    "visual.set_title('Team A - User 4: Day 3 by Line Activity')\n",
    "visual.xaxis.set_major_formatter(mdates.DateFormatter('%H:%M', tz=tz.gettz('US/Eastern')))\n",
    "#visual.set_xlim((min(Team_A_Day3['Time'])), (max(Team_A_Day3['Time'])))\n",
    "visual.set_yticks([])\n",
    "sb.set(rc={\"figure.figsize\":(15, 5)})\n",
    "plt.savefig('Team_A_user4_Day3_linechanges.png')"
   ]
  },
  {
   "cell_type": "code",
   "execution_count": null,
   "metadata": {},
   "outputs": [],
   "source": [
    "#TeamA User 4 Activity Actions by line \n",
    "visual = sb.scatterplot(x = 'Time',y= 'Line ID', hue = 'Activity Type', data = Team_A_user4_Day4, hue_order = hue_order)\n",
    "visual.set_title('Team A - User 4: Day 4 by Line Activity')\n",
    "visual.xaxis.set_major_formatter(mdates.DateFormatter('%H:%M', tz=tz.gettz('US/Eastern')))\n",
    "#visual.set_xlim((min(Team_A_Day4['Time'])), (max(Team_A_Day4['Time'])))\n",
    "visual.set_yticks([])\n",
    "sb.set(rc={\"figure.figsize\":(15, 5)})\n",
    "plt.savefig('Team_A_user4_Day4_linechanges.png')"
   ]
  },
  {
   "cell_type": "code",
   "execution_count": null,
   "metadata": {},
   "outputs": [],
   "source": [
    "#Team A User4\n",
    "visual = sb.countplot(x = 'Type of Action', data = Team_A_user4)\n",
    "visual.set_xticklabels(visual.get_xticklabels(), rotation=45, horizontalalignment='right')\n",
    "visual.set_title('Team A - User 4 Type of Action for All Days')\n",
    "for i in visual.containers:\n",
    "    visual.bar_label(i,)\n",
    "fig = visual.get_figure()\n",
    "fig.subplots_adjust(bottom=0.5)\n",
    "#sb.set(rc={\"figure.figsize\":(15, 5)})\n",
    "fig.savefig('TeamA_User4_TypeofActionofAllDay.png')"
   ]
  },
  {
   "cell_type": "code",
   "execution_count": null,
   "metadata": {},
   "outputs": [],
   "source": [
    "#Team A User4 Action on Day 1 \n",
    "visual = sb.countplot(x = 'Type of Action', data = Team_A_user4_Day1)\n",
    "visual.set_xticklabels(visual.get_xticklabels(), rotation=45, horizontalalignment='right')\n",
    "visual.set_title('Team A - User 4: Day 1 Type of Action')\n",
    "for i in visual.containers:\n",
    "    visual.bar_label(i,)\n",
    "fig = visual.get_figure()\n",
    "fig.subplots_adjust(bottom=0.5)\n",
    "#sb.set(rc={\"figure.figsize\":(15, 5)})\n",
    "fig.savefig('TeamA_User4_Day1_TypeofActionbyDay.png')"
   ]
  },
  {
   "cell_type": "code",
   "execution_count": null,
   "metadata": {},
   "outputs": [],
   "source": [
    "#Team A User4 Action on Day 2\n",
    "visual = sb.countplot(x = 'Type of Action', data = Team_A_user4_Day2)\n",
    "visual.set_xticklabels(visual.get_xticklabels(), rotation=45, horizontalalignment='right')\n",
    "visual.set_title('Team A - User 4: Day 2 Type of Action')\n",
    "for i in visual.containers:\n",
    "    visual.bar_label(i,)\n",
    "fig = visual.get_figure()\n",
    "fig.subplots_adjust(bottom=0.5)\n",
    "#sb.set(rc={\"figure.figsize\":(15, 5)})\n",
    "fig.savefig('TeamA_User4_Day2_TypeofActionbyDay.png')"
   ]
  },
  {
   "cell_type": "code",
   "execution_count": null,
   "metadata": {},
   "outputs": [],
   "source": [
    "#Team A User4 Action on Day 3\n",
    "visual = sb.countplot(x = 'Type of Action', data = Team_A_user4_Day3)\n",
    "visual.set_xticklabels(visual.get_xticklabels(), rotation=45, horizontalalignment='right')\n",
    "visual.set_title('Team A - User 4: Day 3 Type of Action')\n",
    "for i in visual.containers:\n",
    "    visual.bar_label(i,)\n",
    "fig = visual.get_figure()\n",
    "fig.subplots_adjust(bottom=0.5)\n",
    "#sb.set(rc={\"figure.figsize\":(15, 5)})\n",
    "fig.savefig('TeamA_User4_Day3_TypeofActionbyDay.png')"
   ]
  },
  {
   "cell_type": "code",
   "execution_count": null,
   "metadata": {},
   "outputs": [],
   "source": [
    "#Team A User4 Action on Day 4 \n",
    "visual = sb.countplot(x = 'Type of Action', data = Team_A_user4_Day4)\n",
    "visual.set_xticklabels(visual.get_xticklabels(), rotation=45, horizontalalignment='right')\n",
    "visual.set_title('Team A - User 4: Day 4 Type of Action')\n",
    "for i in visual.containers:\n",
    "    visual.bar_label(i,)\n",
    "fig = visual.get_figure()\n",
    "fig.subplots_adjust(bottom=0.5)\n",
    "#sb.set(rc={\"figure.figsize\":(15, 5)})\n",
    "fig.savefig('TeamA_User4_Day4_TypeofActionbyDay.png')"
   ]
  },
  {
   "cell_type": "code",
   "execution_count": null,
   "metadata": {},
   "outputs": [],
   "source": [
    "#TeamA User 4 Activity Actions by line \n",
    "visual = sb.scatterplot(x = 'Time', y= 'Type of Action', hue = 'Activity Type', data = Team_A_user4_Day1)\n",
    "visual.set_title('Team A - User 4: Day 1 Timeline of Type of Actions')\n",
    "visual.xaxis.set_major_formatter(mdates.DateFormatter('%H:%M', tz=tz.gettz('US/Eastern')))\n",
    "#visual.set_xlim((min(Team_A_Day1['Time'])), (max(Team_A_Day1['Time'])))\n",
    "#visual.set_yticks([])\n",
    "sb.set(rc={\"figure.figsize\":(15, 5)})\n",
    "plt.subplots_adjust(left=0.2)\n",
    "plt.savefig('Team_A_user4_Day1_timeline_typeofactivity.png')"
   ]
  },
  {
   "cell_type": "code",
   "execution_count": null,
   "metadata": {},
   "outputs": [],
   "source": [
    "#TeamA User 4 Activity Actions by line \n",
    "visual = sb.scatterplot(x = 'Time', y= 'Type of Action', hue = 'Activity Type', data = Team_A_user4_Day2)\n",
    "visual.set_title('Team A - User 4: Day 2 Timeline of Type of Actions')\n",
    "visual.xaxis.set_major_formatter(mdates.DateFormatter('%H:%M', tz=tz.gettz('US/Eastern')))\n",
    "#visual.set_xlim((min(Team_A_Day2['Time'])), (max(Team_A_Day2['Time'])))\n",
    "#visual.set_yticks([])\n",
    "sb.set(rc={\"figure.figsize\":(15, 5)})\n",
    "plt.subplots_adjust(left=0.2)\n",
    "plt.savefig('Team_A_user4_Day2_timeline_typeofactivity.png')"
   ]
  },
  {
   "cell_type": "code",
   "execution_count": null,
   "metadata": {},
   "outputs": [],
   "source": [
    "#TeamA User 4 Activity Actions by line \n",
    "visual = sb.scatterplot(x = 'Time', y= 'Type of Action', hue = 'Activity Type', data = Team_A_user4_Day3)\n",
    "visual.set_title('Team A - User 4: Day 3 Timeline of Type of Actions')\n",
    "visual.xaxis.set_major_formatter(mdates.DateFormatter('%H:%M', tz=tz.gettz('US/Eastern')))\n",
    "#visual.set_xlim((min(Team_A_Day3['Time'])), (max(Team_A_Day3['Time'])))\n",
    "#visual.set_yticks([])\n",
    "sb.set(rc={\"figure.figsize\":(15, 5)})\n",
    "plt.subplots_adjust(left=0.2)\n",
    "plt.savefig('Team_A_user4_Day3_timeline_typeofactivity.png')"
   ]
  },
  {
   "cell_type": "code",
   "execution_count": null,
   "metadata": {},
   "outputs": [],
   "source": [
    "#TeamA User 4 Activity Actions by line \n",
    "visual = sb.scatterplot(x = 'Time', y= 'Type of Action', hue = 'Activity Type', data = Team_A_user4_Day4)\n",
    "visual.set_title('Team A - User 4: Day 4 Timeline of Type of Actions')\n",
    "visual.xaxis.set_major_formatter(mdates.DateFormatter('%H:%M', tz=tz.gettz('US/Eastern')))\n",
    "#visual.set_xlim((min(Team_A_Day4['Time'])), (max(Team_A_Day4['Time'])))\n",
    "#visual.set_yticks([])\n",
    "sb.set(rc={\"figure.figsize\":(15, 5)})\n",
    "plt.subplots_adjust(left=0.2)\n",
    "plt.savefig('Team_A_user4_Day4_timeline_typeofactivity.png')"
   ]
  },
  {
   "cell_type": "code",
   "execution_count": null,
   "metadata": {},
   "outputs": [],
   "source": [
    "#Team A User4\n",
    "visual = sb.countplot(x = 'Type of Action', data = Team_A_LastOnly)\n",
    "visual.set_xticklabels(visual.get_xticklabels(), rotation=45, horizontalalignment='right')\n",
    "visual.set_title('Team A - Type of Action for All Days - Last Activity Per Line Only')\n",
    "for i in visual.containers:\n",
    "    visual.bar_label(i,)\n",
    "fig = visual.get_figure()\n",
    "fig.subplots_adjust(bottom=0.5)\n",
    "#sb.set(rc={\"figure.figsize\":(15, 5)})\n",
    "fig.savefig('TeamA_LO_TypeofActionofAllDay_lastonly.png')"
   ]
  },
  {
   "cell_type": "code",
   "execution_count": null,
   "metadata": {},
   "outputs": [],
   "source": [
    "#TeamA Day 1  Activity Actions by line Last Only\n",
    "visual = sb.scatterplot(x = 'Time', y= 'Type of Action', hue = 'Activity Type', data = Team_A_Day1_LO)\n",
    "visual.set_title('Team A - Day 1 Timeline of Type of Actions - Last Activity Per Line Only')\n",
    "#visual.set_xlim((min(Team_A_Day1['Time'])), (max(Team_A_Day1['Time'])))\n",
    "visual.xaxis.set_major_formatter(mdates.DateFormatter('%H:%M', tz=tz.gettz('US/Eastern')))\n",
    "#visual.set_yticks([])\n",
    "sb.set(rc={\"figure.figsize\":(15, 5)})\n",
    "plt.subplots_adjust(left=0.2)\n",
    "plt.savefig('Team_A_Day1_timeline_typeofactivity_LastOnly.png')"
   ]
  },
  {
   "cell_type": "code",
   "execution_count": null,
   "metadata": {},
   "outputs": [],
   "source": [
    "#TeamA Day 2 Activity Actions by line - last only \n",
    "visual = sb.scatterplot(x = 'Time', y= 'Type of Action', hue = 'Activity Type', data = Team_A_Day2_LO)\n",
    "visual.set_title('Team A - Day 2 Timeline of Type of Actions - Last Activity Per Line Only')\n",
    "#visual.set_xlim((min(Team_A_Day2['Time'])), (max(Team_A_Day2['Time'])))\n",
    "visual.xaxis.set_major_formatter(mdates.DateFormatter('%H:%M', tz=tz.gettz('US/Eastern')))\n",
    "#visual.set_yticks([])\n",
    "sb.set(rc={\"figure.figsize\":(15, 5)})\n",
    "plt.subplots_adjust(left=0.2)\n",
    "plt.savefig('Team_A_Day2_timeline_typeofactivity_LastOnly.png')"
   ]
  },
  {
   "cell_type": "code",
   "execution_count": null,
   "metadata": {},
   "outputs": [],
   "source": [
    "#TeamA Day 3 Activity Actions by line - last only \n",
    "visual = sb.scatterplot(x = 'Time', y= 'Type of Action', hue = 'Activity Type', data = Team_A_Day3_LO)\n",
    "visual.set_title('Team A - Day 3 Timeline of Type of Actions - Last Activity Per Line Only')\n",
    "#visual.set_xlim((min(Team_A_Day3['Time'])), (max(Team_A_Day3['Time'])))\n",
    "visual.xaxis.set_major_formatter(mdates.DateFormatter('%H:%M', tz=tz.gettz('US/Eastern')))\n",
    "#visual.set_yticks([])\n",
    "sb.set(rc={\"figure.figsize\":(15, 5)})\n",
    "plt.subplots_adjust(left=0.2)\n",
    "plt.savefig('Team_A_Day3_timeline_typeofactivity_LastOnly.png')"
   ]
  },
  {
   "cell_type": "code",
   "execution_count": null,
   "metadata": {},
   "outputs": [],
   "source": [
    "#TeamA Day 4 Activity Actions by line - last only \n",
    "visual = sb.scatterplot(x = 'Time', y= 'Type of Action', hue = 'Activity Type', data = Team_A_Day4_LO)\n",
    "visual.set_title('Team A - Day 4 Timeline of Type of Actions - Last Activity Per Line Only')\n",
    "#visual.set_xlim((min(Team_A_Day4['Time'])), (max(Team_A_Day4['Time'])))\n",
    "visual.xaxis.set_major_formatter(mdates.DateFormatter('%H:%M', tz=tz.gettz('US/Eastern')))\n",
    "#visual.set_yticks([])\n",
    "sb.set(rc={\"figure.figsize\":(15, 5)})\n",
    "plt.subplots_adjust(left=0.2)\n",
    "plt.savefig('Team_A_Day4_timeline_typeofactivity_LastOnly.png')"
   ]
  },
  {
   "cell_type": "code",
   "execution_count": null,
   "metadata": {},
   "outputs": [],
   "source": [
    "#identify when a certain topic is being discussed, make a data table \n",
    "Team_A_user1_Day1.to_excel('TeamA_User1_Day1.xlsx', sheet_name=\"Sheet 1\", index=False)\n"
   ]
  }
 ],
 "metadata": {
  "kernelspec": {
   "display_name": "sensemaking-RGVSQNT3-py3.11",
   "language": "python",
   "name": "python3"
  },
  "language_info": {
   "codemirror_mode": {
    "name": "ipython",
    "version": 3
   },
   "file_extension": ".py",
   "mimetype": "text/x-python",
   "name": "python",
   "nbconvert_exporter": "python",
   "pygments_lexer": "ipython3",
   "version": "3.11.12"
  }
 },
 "nbformat": 4,
 "nbformat_minor": 4
}
